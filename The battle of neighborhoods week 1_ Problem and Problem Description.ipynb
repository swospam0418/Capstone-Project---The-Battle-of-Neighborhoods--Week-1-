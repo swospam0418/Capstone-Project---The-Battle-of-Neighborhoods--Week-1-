{
 "cells": [
  {
   "cell_type": "markdown",
   "metadata": {},
   "source": [
    "# <font size=\"15\">**The Battle of Neighborhoods**</font>\n",
    "\n",
    "\n",
    "<font size=\"5\">**Problem Background**</font>\n",
    "\n",
    "New York City is one of the most populous cities in the United States. New York City was home to 8,336,817 people in 2019 and making it the most densely populated major city in the United States. It also accounts for over 40% of the population of New York State. With a long history of international immergration, New York City has been described as the cultural, financial, and media capital of the world \n",
    "\n",
    "\n",
    "Being described as the cultural capital of the world, New York City's food culture includes an array of international cuisines influenced by the city's immigrant history. There are many resturants in New york City, each beloning to different categories such as Chinese , Italian , French etc.\n",
    "\n",
    "So as part of this project , we will list and visualize all major parts of New York City that has great Chinese resturants.\n",
    "\n",
    "<br>\n",
    "\n",
    "<font size=\"5\">**Problem Description**</font>\n",
    "\n",
    "To surive in the competitive environment of New York City, we must find the best location that may help us get as many customers as possible. We have to know better about the surroundings and find out the place that has best business potential. \n",
    "\n",
    "We plan to solve following problems:\n",
    "* What is best location in New York City for Chinese restaurants?\n",
    "* Which areas have potential Chinese restaurant market ?\n",
    "* Which all areas lack Chinese resturants ?\n",
    "* Which is the best place to stay if I prefer Chinese restaurants ?"
   ]
  }
 ],
 "metadata": {
  "kernelspec": {
   "display_name": "Python 3",
   "language": "python",
   "name": "python3"
  },
  "language_info": {
   "codemirror_mode": {
    "name": "ipython",
    "version": 3
   },
   "file_extension": ".py",
   "mimetype": "text/x-python",
   "name": "python",
   "nbconvert_exporter": "python",
   "pygments_lexer": "ipython3",
   "version": "3.7.6"
  }
 },
 "nbformat": 4,
 "nbformat_minor": 4
}
