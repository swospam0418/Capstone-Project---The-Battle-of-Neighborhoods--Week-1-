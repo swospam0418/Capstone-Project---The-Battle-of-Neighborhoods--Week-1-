{
 "cells": [
  {
   "cell_type": "markdown",
   "metadata": {},
   "source": [
    "**Data**"
   ]
  },
  {
   "cell_type": "markdown",
   "metadata": {},
   "source": [
    "* Collect the New York data from https://cocl.us/new_york_dataset\n",
    "* Using FourSquare API to find all venues for each neighborhood.\n",
    "* Filter out all venues that are Chinese Resturants.\n",
    "* Find rating , tips and like count for each Chinese Resturants using FourSquare API and sort the data\n",
    "* Visualize the Ranking of neighborhoods using folium library(python)"
   ]
  },
  {
   "cell_type": "markdown",
   "metadata": {},
   "source": [
    "**Question to Answer**"
   ]
  },
  {
   "cell_type": "markdown",
   "metadata": {},
   "source": [
    "* What is best location in New York City for Chinese Restaturants ?\n",
    "* Which areas have potential Chinese Resturant Market ?\n",
    "* Which all areas lack Chinese Resturants ?\n",
    "* Which is the best place to stay if I prefer Indian Cuisine ?"
   ]
  }
 ],
 "metadata": {
  "kernelspec": {
   "display_name": "Python 3",
   "language": "python",
   "name": "python3"
  },
  "language_info": {
   "codemirror_mode": {
    "name": "ipython",
    "version": 3
   },
   "file_extension": ".py",
   "mimetype": "text/x-python",
   "name": "python",
   "nbconvert_exporter": "python",
   "pygments_lexer": "ipython3",
   "version": "3.7.6"
  }
 },
 "nbformat": 4,
 "nbformat_minor": 4
}
